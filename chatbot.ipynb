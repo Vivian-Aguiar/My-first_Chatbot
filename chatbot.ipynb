{
  "cells": [
    {
      "cell_type": "markdown",
      "metadata": {
        "id": "view-in-github",
        "colab_type": "text"
      },
      "source": [
        "<a href=\"https://colab.research.google.com/github/Vivian-Aguiar/My-first_Chatbot/blob/main/chatbot.ipynb\" target=\"_parent\"><img src=\"https://colab.research.google.com/assets/colab-badge.svg\" alt=\"Open In Colab\"/></a>"
      ]
    },
    {
      "cell_type": "code",
      "execution_count": 5,
      "metadata": {
        "id": "0NRpZEW7cfGf"
      },
      "outputs": [],
      "source": [
        "!pip install -q -U google-generativeai"
      ]
    },
    {
      "cell_type": "code",
      "execution_count": 12,
      "metadata": {
        "id": "V7OAMLchcl3Q"
      },
      "outputs": [],
      "source": [
        "import google.generativeai as genai\n",
        "from google.colab import userdata\n",
        "api_key = userdata.get('SECRET_KEY')\n",
        "genai.configure(api_key=api_key)\n",
        "\n",
        "\n",
        "\n"
      ]
    },
    {
      "cell_type": "markdown",
      "metadata": {
        "id": "OMD83gnLeg5F"
      },
      "source": [
        "Listar os modelos disponiveis"
      ]
    },
    {
      "cell_type": "code",
      "execution_count": 13,
      "metadata": {
        "colab": {
          "base_uri": "https://localhost:8080/",
          "height": 139
        },
        "id": "Z688CfmqdDY9",
        "outputId": "5f78d159-b85b-420d-e8c0-c5d1c708df98"
      },
      "outputs": [
        {
          "output_type": "stream",
          "name": "stdout",
          "text": [
            "models/gemini-1.0-pro\n",
            "models/gemini-1.0-pro-001\n",
            "models/gemini-1.0-pro-latest\n",
            "models/gemini-1.0-pro-vision-latest\n",
            "models/gemini-1.5-pro-latest\n",
            "models/gemini-pro\n",
            "models/gemini-pro-vision\n"
          ]
        }
      ],
      "source": [
        "for m in genai.list_models():\n",
        "  if 'generateContent' in m.supported_generation_methods:\n",
        "    print(m.name)"
      ]
    },
    {
      "cell_type": "markdown",
      "metadata": {
        "id": "4WSySLmXiXZ6"
      },
      "source": [
        "Estamos parametrizando modelos abaixo:"
      ]
    },
    {
      "cell_type": "code",
      "execution_count": 14,
      "metadata": {
        "id": "zw4v422xhKqT"
      },
      "outputs": [],
      "source": [
        "configuracao_geral = {\n",
        "    \"candidate_count\" : 1,\n",
        "    \"temperature\" : 0.5,\n",
        "}"
      ]
    },
    {
      "cell_type": "code",
      "execution_count": 15,
      "metadata": {
        "id": "WZ6GnudJhpxo"
      },
      "outputs": [],
      "source": [
        "configuracao_seguranca = {\n",
        "    \"HARASSMENT\" : \"BLOCK_NONE\",\n",
        "    \"HATE\" : \"BLOCK_NONE\",\n",
        "    \"SEXUAL\" : \"BLOCK_NONE\",\n",
        "    \"DANGEROUS\" : \"BLOCK_NONE\",\n",
        "}"
      ]
    },
    {
      "cell_type": "markdown",
      "metadata": {
        "id": "wfKQduusjMeD"
      },
      "source": [
        "Inicializando o modelo"
      ]
    },
    {
      "cell_type": "code",
      "execution_count": 22,
      "metadata": {
        "id": "bpZi1wFejPdy"
      },
      "outputs": [],
      "source": [
        "model = genai.GenerativeModel(model_name=\"gemini-1.0-pro\",\n",
        "                              generation_config=configuracao_geral,\n",
        "                              safety_settings=configuracao_seguranca)\n"
      ]
    },
    {
      "cell_type": "markdown",
      "metadata": {
        "id": "qEneD3bZlBcD"
      },
      "source": [
        "Gerando texto"
      ]
    },
    {
      "cell_type": "code",
      "execution_count": 22,
      "metadata": {
        "id": "jSXmBkXGkpTW"
      },
      "outputs": [],
      "source": []
    },
    {
      "cell_type": "code",
      "execution_count": 23,
      "metadata": {
        "id": "ar-i55I6lFMj",
        "colab": {
          "base_uri": "https://localhost:8080/",
          "height": 801
        },
        "outputId": "ba6a938c-4322-465e-b2c1-38a9201767cf"
      },
      "outputs": [
        {
          "output_type": "stream",
          "name": "stdout",
          "text": [
            "**Introdução à IA Generativa**\n",
            "\n",
            "* Definição e visão geral da IA Generativa\n",
            "* Tipos de IA Generativa (por exemplo, redes adversárias gerativas, modelos de linguagem grandes)\n",
            "* Aplicações e casos de uso da IA Generativa (por exemplo, geração de imagem, tradução de idiomas, criação de conteúdo)\n",
            "\n",
            "**Modelos de Linguagem Grandes (LLMs)**\n",
            "\n",
            "* O que são LLMs e como eles funcionam\n",
            "* Técnicas de treinamento e arquitetura de LLMs (por exemplo, transformadores, autoatenção)\n",
            "* Aplicativos de LLMs (por exemplo, geração de texto, resumo, tradução)\n",
            "\n",
            "**Redes Adversárias Gerativas (GANs)**\n",
            "\n",
            "* Conceitos básicos de GANs (por exemplo, gerador, discriminador, função de perda)\n",
            "* Arquiteturas e técnicas de treinamento de GANs\n",
            "* Aplicativos de GANs (por exemplo, geração de imagem, síntese de dados)\n",
            "\n",
            "**Aplicações Criativas da IA Generativa**\n",
            "\n",
            "* Geração de arte e imagens\n",
            "* Criação de música e composição\n",
            "* Geração de conteúdo de texto (por exemplo, histórias, poemas)\n",
            "\n",
            "**Implicações Éticas e Sociais da IA Generativa**\n",
            "\n",
            "* Preocupações com direitos autorais e propriedade intelectual\n",
            "* Potencial para desinformação e manipulação\n",
            "* Impactos no mercado de trabalho e na criatividade humana\n",
            "\n",
            "**Recursos Adicionais**\n",
            "\n",
            "* **Artigos e Pesquisas:**\n",
            "    * [Introdução à IA Generativa](https://arxiv.org/abs/1701.02224)\n",
            "    * [Modelos de Linguagem Grandes: Uma Visão Geral](https://arxiv.org/abs/2005.14165)\n",
            "    * [Redes Adversárias Gerativas](https://arxiv.org/abs/1406.2661)\n",
            "* **Cursos e Tutoriais:**\n",
            "    * [Curso de IA Generativa](https://www.coursera.org/specializations/generative-adversarial-networks)\n",
            "    * [Tutorial de Redes Adversárias Gerativas](https://pytorch.org/tutorials/beginner/dcgan_faces_tutorial.html)\n",
            "    * [Tutorial de Modelos de Linguagem Grandes](https://huggingface.co/course/nlp-course/chapter1/1?fw=pt)\n",
            "* **Ferramentas e Bibliotecas:**\n",
            "    * [TensorFlow](https://www.tensorflow.org/)\n",
            "    * [PyTorch](https://pytorch.org/)\n",
            "    * [Hugging Face](https://huggingface.co/)\n"
          ]
        }
      ],
      "source": [
        "response = model.generate_content(\"Vamos aprender conteúdo sobre IA Generativa. Me dê sugestões.\")\n",
        "print(response.text)"
      ]
    },
    {
      "cell_type": "markdown",
      "source": [
        "INICIANDO O CHAT"
      ],
      "metadata": {
        "id": "2Rh8Ak19wv6t"
      }
    },
    {
      "cell_type": "code",
      "execution_count": 24,
      "metadata": {
        "id": "mvQh3lXXviUE"
      },
      "outputs": [],
      "source": [
        "chat = model.start_chat(history=[])"
      ]
    },
    {
      "cell_type": "code",
      "execution_count": 25,
      "metadata": {
        "colab": {
          "base_uri": "https://localhost:8080/",
          "height": 139
        },
        "id": "xRz4P6RuwLfx",
        "outputId": "7fdd81d7-affa-4cb2-ec40-9833b470c0f8"
      },
      "outputs": [
        {
          "name": "stdout",
          "output_type": "stream",
          "text": [
            "Esperando prompt: capital do japão?\n",
            "Resposta:  Tóquio \n",
            "\n",
            "Esperando prompt: capital de Minas Gerais?\n",
            "Resposta:  Belo Horizonte \n",
            "\n",
            "Esperando prompt: fim\n"
          ]
        }
      ],
      "source": [
        "prompt = input(\"Esperando prompt: \")\n",
        "\n",
        "while prompt != \"fim\":\n",
        "  response = chat.send_message(prompt)\n",
        "  print(\"Resposta: \", response.text, \"\\n\")\n",
        "  prompt = input(\"Esperando prompt: \")"
      ]
    },
    {
      "cell_type": "code",
      "execution_count": 26,
      "metadata": {
        "colab": {
          "base_uri": "https://localhost:8080/",
          "height": 268
        },
        "id": "QVofMb850T3b",
        "outputId": "5d1199a0-d3ac-429d-ec79-adbac2d5b16c"
      },
      "outputs": [
        {
          "output_type": "display_data",
          "data": {
            "text/plain": [
              "<IPython.core.display.Markdown object>"
            ],
            "text/markdown": "> **user**: capital do japão?"
          },
          "metadata": {}
        },
        {
          "output_type": "stream",
          "name": "stdout",
          "text": [
            "-------------------------------------------\n"
          ]
        },
        {
          "output_type": "display_data",
          "data": {
            "text/plain": [
              "<IPython.core.display.Markdown object>"
            ],
            "text/markdown": "> **model**: Tóquio"
          },
          "metadata": {}
        },
        {
          "output_type": "stream",
          "name": "stdout",
          "text": [
            "-------------------------------------------\n"
          ]
        },
        {
          "output_type": "display_data",
          "data": {
            "text/plain": [
              "<IPython.core.display.Markdown object>"
            ],
            "text/markdown": "> **user**: capital de Minas Gerais?"
          },
          "metadata": {}
        },
        {
          "output_type": "stream",
          "name": "stdout",
          "text": [
            "-------------------------------------------\n"
          ]
        },
        {
          "output_type": "display_data",
          "data": {
            "text/plain": [
              "<IPython.core.display.Markdown object>"
            ],
            "text/markdown": "> **model**: Belo Horizonte"
          },
          "metadata": {}
        },
        {
          "output_type": "stream",
          "name": "stdout",
          "text": [
            "-------------------------------------------\n"
          ]
        }
      ],
      "source": [
        "import textwrap\n",
        "from IPython.display import display\n",
        "from IPython.display import Markdown\n",
        "\n",
        "def to_markdown(text):\n",
        "  text = text.replace('•', '  *')\n",
        "  return Markdown(textwrap.indent(text, '> ', predicate=lambda _: True))\n",
        "\n",
        "#Imprimindo o histórico\n",
        "for message in chat.history:\n",
        "  display(to_markdown(f'**{message.role}**: {message.parts[0].text}'))\n",
        "  print('-------------------------------------------')"
      ]
    }
  ],
  "metadata": {
    "colab": {
      "provenance": [],
      "authorship_tag": "ABX9TyPkiSFz6h3M6x2LLLPf/iiw",
      "include_colab_link": true
    },
    "kernelspec": {
      "display_name": "Python 3",
      "name": "python3"
    },
    "language_info": {
      "name": "python"
    }
  },
  "nbformat": 4,
  "nbformat_minor": 0
}